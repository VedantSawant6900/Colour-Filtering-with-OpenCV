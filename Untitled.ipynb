{
 "cells": [
  {
   "cell_type": "code",
   "execution_count": null,
   "id": "f18b2595",
   "metadata": {},
   "outputs": [],
   "source": [
    "import cv2\n",
    "import numpy as np\n",
    "cap=cv2.VideoCapture(0)\n",
    "while True:\n",
    "    ret,frame=cap.read()\n",
    "    lower_red = np.array([160,100,50])\n",
    "    upper_red = np.array([180,255,255])\n",
    "    hsv=cv2.cvtColor(frame,cv2.COLOR_BGR2HSV)\n",
    "    mask=cv2.inRange(hsv, lower_red, upper_red)\n",
    "    res=cv2.bitwise_and(frame,frame,mask=mask)\n",
    "    cv2.imshow(\"HSV\",hsv)\n",
    "    cv2.imshow('Video',frame)\n",
    "    cv2.imshow('Mask',mask)\n",
    "    cv2.imshow('Result',res)\n",
    "    k=cv2.waitKey(5)\n",
    "    if k==27:\n",
    "        break\n",
    "cv2.destroyAllWindows()\n",
    "cap.release()"
   ]
  },
  {
   "cell_type": "code",
   "execution_count": 16,
   "id": "b801ae13",
   "metadata": {},
   "outputs": [],
   "source": [
    "import cv2\n",
    "import numpy as np\n",
    "img = cv2.imread('roses.jpg')\n",
    "lower_red = np.array([160,100,50])\n",
    "upper_red = np.array([180,255,255])\n",
    "hsv=cv2.cvtColor(img,cv2.COLOR_BGR2HSV)\n",
    "mask = cv2.inRange(hsv,lower_red,upper_red) \n",
    "res = cv2.bitwise_and(img,img,mask = mask)\n",
    "cv2.imshow('HSV',hsv)\n",
    "cv2.imshow('Image',img)\n",
    "cv2.imshow('Mask',mask)\n",
    "cv2.imshow('Result',res)\n",
    "cv2.waitKey(0)\n",
    "cv2.destroyAllWindows()"
   ]
  }
 ],
 "metadata": {
  "kernelspec": {
   "display_name": "Python 3",
   "language": "python",
   "name": "python3"
  },
  "language_info": {
   "codemirror_mode": {
    "name": "ipython",
    "version": 3
   },
   "file_extension": ".py",
   "mimetype": "text/x-python",
   "name": "python",
   "nbconvert_exporter": "python",
   "pygments_lexer": "ipython3",
   "version": "3.8.8"
  }
 },
 "nbformat": 4,
 "nbformat_minor": 5
}
